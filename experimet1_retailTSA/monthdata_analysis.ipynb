{
 "cells": [
  {
   "cell_type": "markdown",
   "id": "742895b7",
   "metadata": {},
   "source": [
    "# Loading Packages "
   ]
  },
  {
   "cell_type": "code",
   "execution_count": 2,
   "id": "0bd6e94b",
   "metadata": {},
   "outputs": [],
   "source": [
    "import os\n",
    "import pandas as pd\n",
    "import numpy as np"
   ]
  },
  {
   "cell_type": "markdown",
   "id": "b0a4e796",
   "metadata": {},
   "source": [
    "# Date & Problem statement"
   ]
  },
  {
   "cell_type": "code",
   "execution_count": 3,
   "id": "0987c9c7",
   "metadata": {},
   "outputs": [
    {
     "data": {
      "text/html": [
       "<div>\n",
       "<style scoped>\n",
       "    .dataframe tbody tr th:only-of-type {\n",
       "        vertical-align: middle;\n",
       "    }\n",
       "\n",
       "    .dataframe tbody tr th {\n",
       "        vertical-align: top;\n",
       "    }\n",
       "\n",
       "    .dataframe thead th {\n",
       "        text-align: right;\n",
       "    }\n",
       "</style>\n",
       "<table border=\"1\" class=\"dataframe\">\n",
       "  <thead>\n",
       "    <tr style=\"text-align: right;\">\n",
       "      <th></th>\n",
       "      <th>month_start_date</th>\n",
       "      <th>whidx</th>\n",
       "      <th>skuidx</th>\n",
       "      <th>qty</th>\n",
       "    </tr>\n",
       "  </thead>\n",
       "  <tbody>\n",
       "    <tr>\n",
       "      <th>0</th>\n",
       "      <td>2019-07-01</td>\n",
       "      <td>70401</td>\n",
       "      <td>3269615</td>\n",
       "      <td>5</td>\n",
       "    </tr>\n",
       "    <tr>\n",
       "      <th>1</th>\n",
       "      <td>2019-08-01</td>\n",
       "      <td>70401</td>\n",
       "      <td>3269615</td>\n",
       "      <td>16</td>\n",
       "    </tr>\n",
       "    <tr>\n",
       "      <th>2</th>\n",
       "      <td>2019-09-01</td>\n",
       "      <td>70401</td>\n",
       "      <td>3269615</td>\n",
       "      <td>16</td>\n",
       "    </tr>\n",
       "    <tr>\n",
       "      <th>3</th>\n",
       "      <td>2019-10-01</td>\n",
       "      <td>70401</td>\n",
       "      <td>3269615</td>\n",
       "      <td>12</td>\n",
       "    </tr>\n",
       "    <tr>\n",
       "      <th>4</th>\n",
       "      <td>2019-11-01</td>\n",
       "      <td>65227</td>\n",
       "      <td>3269615</td>\n",
       "      <td>2</td>\n",
       "    </tr>\n",
       "  </tbody>\n",
       "</table>\n",
       "</div>"
      ],
      "text/plain": [
       "  month_start_date  whidx   skuidx  qty\n",
       "0       2019-07-01  70401  3269615    5\n",
       "1       2019-08-01  70401  3269615   16\n",
       "2       2019-09-01  70401  3269615   16\n",
       "3       2019-10-01  70401  3269615   12\n",
       "4       2019-11-01  65227  3269615    2"
      ]
     },
     "execution_count": 3,
     "metadata": {},
     "output_type": "execute_result"
    }
   ],
   "source": [
    "\"\"\"\n",
    "Data Dictionary \n",
    "\n",
    "month_start_date : monthly sales upto the date\n",
    "whidx : Warehouse ID\n",
    "skuidx : SKU ID \n",
    "qty : Quantity Sold\n",
    "\n",
    "\"\"\"\n",
    "\n",
    "\"\"\"\n",
    "Problem Statement : \n",
    "For a given date, warehouse ID & sku id we have to forecast the \n",
    "quantity demanded by the consumers at stores. \n",
    "\n",
    "\"\"\"\n",
    "monthdata = pd.read_csv('monthsummary_top50_v2.csv',infer_datetime_format= True)\n",
    "monthdata.head(5)"
   ]
  },
  {
   "cell_type": "code",
   "execution_count": 23,
   "id": "7e5dfd40",
   "metadata": {},
   "outputs": [
    {
     "data": {
      "text/plain": [
       "108"
      ]
     },
     "execution_count": 23,
     "metadata": {},
     "output_type": "execute_result"
    }
   ],
   "source": [
    "monthdata.shape[0]"
   ]
  },
  {
   "cell_type": "markdown",
   "id": "55ddf2e7",
   "metadata": {},
   "source": [
    "# Functions for Data Exploration :"
   ]
  },
  {
   "cell_type": "code",
   "execution_count": 4,
   "id": "c062838b",
   "metadata": {},
   "outputs": [],
   "source": [
    "def missing_(data,colname):\n",
    "    missing_ = data[colname].isna().sum()\n",
    "    return missing_\n",
    "\n",
    "def unique_(data,colname):\n",
    "    unique_ = len(data[colname].unique())\n",
    "    return unique_\n",
    "\n",
    "def date_duration(data,colname):\n",
    "    \n",
    "    date_vector = data[colname]\n",
    "    date_vector = pd.to_datetime(date_vector)\n",
    "    min_ = date_vector.min()\n",
    "    max_ = date_vector.max()\n",
    "    \n",
    "    return print(f\"Temporal duration is from {min_} to {max_}\")\n",
    "\n",
    "def sku_WHCount(data,colname1,colname2):\n",
    "    \n",
    "    datum = data.groupby(colname1).agg(skus = pd.NamedAgg(colname2,'nunique')).reset_index()\n",
    "    datum = datum.sort_values('skus', ascending = False)\n",
    "    datum = pd.DataFrame(datum)\n",
    "    \n",
    "    return datum\n",
    "\n",
    "def demand_dept(data,colname):\n",
    "    \n",
    "    min_demand = data[colname].min()\n",
    "    max_demand = data[colname].max()\n",
    "    avg_demand = data[colname].mean()\n",
    "    \n",
    "    return print(f\"Min Demand {min_demand} , Max_Demand {max_demand} & Avg Demand {avg_demand}\")"
   ]
  },
  {
   "cell_type": "markdown",
   "id": "6d4314c1",
   "metadata": {},
   "source": [
    "# Missing Information:"
   ]
  },
  {
   "cell_type": "code",
   "execution_count": 30,
   "id": "1c2cc2a5",
   "metadata": {},
   "outputs": [
    {
     "data": {
      "text/plain": [
       "31"
      ]
     },
     "execution_count": 30,
     "metadata": {},
     "output_type": "execute_result"
    }
   ],
   "source": [
    "\"\"\" Asma's assignment \"\"\"\n",
    "unique_(monthdata,'whidx')\n",
    "#unique_(monthdata,'skuidx')"
   ]
  },
  {
   "cell_type": "markdown",
   "id": "22ab3ab4",
   "metadata": {},
   "source": [
    "# Warehouse & SKU level Demand Analysis:"
   ]
  },
  {
   "cell_type": "code",
   "execution_count": 5,
   "id": "33a0a0bf",
   "metadata": {},
   "outputs": [
    {
     "data": {
      "text/html": [
       "<div>\n",
       "<style scoped>\n",
       "    .dataframe tbody tr th:only-of-type {\n",
       "        vertical-align: middle;\n",
       "    }\n",
       "\n",
       "    .dataframe tbody tr th {\n",
       "        vertical-align: top;\n",
       "    }\n",
       "\n",
       "    .dataframe thead th {\n",
       "        text-align: right;\n",
       "    }\n",
       "</style>\n",
       "<table border=\"1\" class=\"dataframe\">\n",
       "  <thead>\n",
       "    <tr style=\"text-align: right;\">\n",
       "      <th></th>\n",
       "      <th>whidx</th>\n",
       "      <th>skus</th>\n",
       "    </tr>\n",
       "  </thead>\n",
       "  <tbody>\n",
       "    <tr>\n",
       "      <th>18</th>\n",
       "      <td>65245</td>\n",
       "      <td>6</td>\n",
       "    </tr>\n",
       "    <tr>\n",
       "      <th>9</th>\n",
       "      <td>37163</td>\n",
       "      <td>3</td>\n",
       "    </tr>\n",
       "    <tr>\n",
       "      <th>8</th>\n",
       "      <td>34122</td>\n",
       "      <td>3</td>\n",
       "    </tr>\n",
       "    <tr>\n",
       "      <th>27</th>\n",
       "      <td>75187</td>\n",
       "      <td>3</td>\n",
       "    </tr>\n",
       "    <tr>\n",
       "      <th>5</th>\n",
       "      <td>13607</td>\n",
       "      <td>3</td>\n",
       "    </tr>\n",
       "    <tr>\n",
       "      <th>19</th>\n",
       "      <td>65247</td>\n",
       "      <td>2</td>\n",
       "    </tr>\n",
       "    <tr>\n",
       "      <th>20</th>\n",
       "      <td>65249</td>\n",
       "      <td>2</td>\n",
       "    </tr>\n",
       "    <tr>\n",
       "      <th>23</th>\n",
       "      <td>69100</td>\n",
       "      <td>2</td>\n",
       "    </tr>\n",
       "    <tr>\n",
       "      <th>30</th>\n",
       "      <td>82290</td>\n",
       "      <td>2</td>\n",
       "    </tr>\n",
       "    <tr>\n",
       "      <th>7</th>\n",
       "      <td>16742</td>\n",
       "      <td>2</td>\n",
       "    </tr>\n",
       "    <tr>\n",
       "      <th>17</th>\n",
       "      <td>65244</td>\n",
       "      <td>2</td>\n",
       "    </tr>\n",
       "    <tr>\n",
       "      <th>25</th>\n",
       "      <td>70401</td>\n",
       "      <td>1</td>\n",
       "    </tr>\n",
       "    <tr>\n",
       "      <th>24</th>\n",
       "      <td>70360</td>\n",
       "      <td>1</td>\n",
       "    </tr>\n",
       "    <tr>\n",
       "      <th>26</th>\n",
       "      <td>75184</td>\n",
       "      <td>1</td>\n",
       "    </tr>\n",
       "    <tr>\n",
       "      <th>22</th>\n",
       "      <td>68500</td>\n",
       "      <td>1</td>\n",
       "    </tr>\n",
       "    <tr>\n",
       "      <th>21</th>\n",
       "      <td>65941</td>\n",
       "      <td>1</td>\n",
       "    </tr>\n",
       "    <tr>\n",
       "      <th>28</th>\n",
       "      <td>80704</td>\n",
       "      <td>1</td>\n",
       "    </tr>\n",
       "    <tr>\n",
       "      <th>29</th>\n",
       "      <td>81490</td>\n",
       "      <td>1</td>\n",
       "    </tr>\n",
       "    <tr>\n",
       "      <th>0</th>\n",
       "      <td>2517</td>\n",
       "      <td>1</td>\n",
       "    </tr>\n",
       "    <tr>\n",
       "      <th>16</th>\n",
       "      <td>65243</td>\n",
       "      <td>1</td>\n",
       "    </tr>\n",
       "    <tr>\n",
       "      <th>1</th>\n",
       "      <td>2518</td>\n",
       "      <td>1</td>\n",
       "    </tr>\n",
       "    <tr>\n",
       "      <th>14</th>\n",
       "      <td>65240</td>\n",
       "      <td>1</td>\n",
       "    </tr>\n",
       "    <tr>\n",
       "      <th>13</th>\n",
       "      <td>65227</td>\n",
       "      <td>1</td>\n",
       "    </tr>\n",
       "    <tr>\n",
       "      <th>12</th>\n",
       "      <td>60182</td>\n",
       "      <td>1</td>\n",
       "    </tr>\n",
       "    <tr>\n",
       "      <th>11</th>\n",
       "      <td>52720</td>\n",
       "      <td>1</td>\n",
       "    </tr>\n",
       "    <tr>\n",
       "      <th>10</th>\n",
       "      <td>52420</td>\n",
       "      <td>1</td>\n",
       "    </tr>\n",
       "    <tr>\n",
       "      <th>6</th>\n",
       "      <td>15942</td>\n",
       "      <td>1</td>\n",
       "    </tr>\n",
       "    <tr>\n",
       "      <th>4</th>\n",
       "      <td>7997</td>\n",
       "      <td>1</td>\n",
       "    </tr>\n",
       "    <tr>\n",
       "      <th>3</th>\n",
       "      <td>5156</td>\n",
       "      <td>1</td>\n",
       "    </tr>\n",
       "    <tr>\n",
       "      <th>2</th>\n",
       "      <td>4643</td>\n",
       "      <td>1</td>\n",
       "    </tr>\n",
       "    <tr>\n",
       "      <th>15</th>\n",
       "      <td>65241</td>\n",
       "      <td>1</td>\n",
       "    </tr>\n",
       "  </tbody>\n",
       "</table>\n",
       "</div>"
      ],
      "text/plain": [
       "    whidx  skus\n",
       "18  65245     6\n",
       "9   37163     3\n",
       "8   34122     3\n",
       "27  75187     3\n",
       "5   13607     3\n",
       "19  65247     2\n",
       "20  65249     2\n",
       "23  69100     2\n",
       "30  82290     2\n",
       "7   16742     2\n",
       "17  65244     2\n",
       "25  70401     1\n",
       "24  70360     1\n",
       "26  75184     1\n",
       "22  68500     1\n",
       "21  65941     1\n",
       "28  80704     1\n",
       "29  81490     1\n",
       "0    2517     1\n",
       "16  65243     1\n",
       "1    2518     1\n",
       "14  65240     1\n",
       "13  65227     1\n",
       "12  60182     1\n",
       "11  52720     1\n",
       "10  52420     1\n",
       "6   15942     1\n",
       "4    7997     1\n",
       "3    5156     1\n",
       "2    4643     1\n",
       "15  65241     1"
      ]
     },
     "execution_count": 5,
     "metadata": {},
     "output_type": "execute_result"
    }
   ],
   "source": [
    "sku_WHCount(monthdata,'whidx','skuidx')"
   ]
  },
  {
   "cell_type": "markdown",
   "id": "0b3eca86",
   "metadata": {},
   "source": [
    "# Consolidated demand for each SKU for a given warehouse "
   ]
  },
  {
   "cell_type": "code",
   "execution_count": 6,
   "id": "3f27e640",
   "metadata": {},
   "outputs": [
    {
     "data": {
      "text/plain": [
       "3205752"
      ]
     },
     "execution_count": 6,
     "metadata": {},
     "output_type": "execute_result"
    }
   ],
   "source": [
    "wskudemand = monthdata.groupby(['whidx','skuidx']).agg(total_demand = pd.NamedAgg('qty','sum')).reset_index()\n",
    "targetwh = wskudemand.loc[wskudemand['whidx'] == 13607].sort_values('total_demand',ascending = False)\n",
    "max_demand = wskudemand.loc[wskudemand['whidx'] == 13607].sort_values('total_demand',ascending = False).max()\n",
    "max_demand[2]\n",
    "targetwh.loc[targetwh['total_demand'] == max_demand[2]].reset_index()['skuidx'][0]"
   ]
  },
  {
   "cell_type": "code",
   "execution_count": 7,
   "id": "aa62efce",
   "metadata": {},
   "outputs": [
    {
     "data": {
      "text/plain": [
       "0      70401\n",
       "1      70401\n",
       "2      70401\n",
       "3      70401\n",
       "4      65227\n",
       "       ...  \n",
       "103    75187\n",
       "104    75187\n",
       "105    80704\n",
       "106    81490\n",
       "107    82290\n",
       "Name: whidx, Length: 108, dtype: object"
      ]
     },
     "execution_count": 7,
     "metadata": {},
     "output_type": "execute_result"
    }
   ],
   "source": [
    "monthdata['whidx'] = monthdata['whidx'].astype(str)\n",
    "monthdata['whidx']"
   ]
  },
  {
   "cell_type": "code",
   "execution_count": 14,
   "id": "20c5cc49",
   "metadata": {},
   "outputs": [],
   "source": [
    "\n",
    "def targetskus(data,whidx):\n",
    "    wskudemand = data.groupby(['whidx','skuidx']).agg(total_demand = pd.NamedAgg('qty','sum')).reset_index()\n",
    "    targetwh = wskudemand.loc[wskudemand['whidx'] == whidx].sort_values('total_demand',ascending = False)\n",
    "    max_demand = wskudemand.loc[wskudemand['whidx'] == whidx].sort_values('total_demand',ascending = False).max()\n",
    "    max_demand = max_demand[2]\n",
    "    sku = targetwh.loc[targetwh['total_demand'] == max_demand].reset_index()['skuidx'][0]\n",
    "    \n",
    "    return sku,max_demand\n",
    "\n",
    "    "
   ]
  },
  {
   "cell_type": "code",
   "execution_count": 17,
   "id": "fc9ff38b",
   "metadata": {},
   "outputs": [
    {
     "name": "stdout",
     "output_type": "stream",
     "text": [
      "processing targets for 70401\n",
      "processing targets for 65227\n",
      "processing targets for 2517\n",
      "processing targets for 4643\n",
      "processing targets for 37163\n",
      "processing targets for 60182\n",
      "processing targets for 65245\n",
      "processing targets for 68500\n",
      "processing targets for 75184\n",
      "processing targets for 7997\n",
      "processing targets for 34122\n",
      "processing targets for 52420\n",
      "processing targets for 65941\n",
      "processing targets for 82290\n",
      "processing targets for 81490\n",
      "processing targets for 5156\n",
      "processing targets for 65244\n",
      "processing targets for 69100\n",
      "processing targets for 70360\n",
      "processing targets for 75187\n",
      "processing targets for 80704\n",
      "processing targets for 2518\n",
      "processing targets for 13607\n",
      "processing targets for 15942\n",
      "processing targets for 16742\n",
      "processing targets for 52720\n",
      "processing targets for 65240\n",
      "processing targets for 65241\n",
      "processing targets for 65243\n",
      "processing targets for 65247\n",
      "processing targets for 65249\n"
     ]
    }
   ],
   "source": [
    "targets = pd.DataFrame(columns = ['whidx','skuidx','demand'])\n",
    "for wid in list(monthdata.whidx.unique()):\n",
    "    targetsku,demand = targetskus(monthdata,wid)\n",
    "    datum = pd.DataFrame({'whidx':wid,\n",
    "                          'skuidx':targetsku,\n",
    "                          'demand':demand},index = [0])\n",
    "    targets = pd.concat([targets,datum])\n",
    "    print(f\"processing targets for {wid}\")"
   ]
  },
  {
   "cell_type": "code",
   "execution_count": 18,
   "id": "3ac72e18",
   "metadata": {},
   "outputs": [
    {
     "data": {
      "text/html": [
       "<div>\n",
       "<style scoped>\n",
       "    .dataframe tbody tr th:only-of-type {\n",
       "        vertical-align: middle;\n",
       "    }\n",
       "\n",
       "    .dataframe tbody tr th {\n",
       "        vertical-align: top;\n",
       "    }\n",
       "\n",
       "    .dataframe thead th {\n",
       "        text-align: right;\n",
       "    }\n",
       "</style>\n",
       "<table border=\"1\" class=\"dataframe\">\n",
       "  <thead>\n",
       "    <tr style=\"text-align: right;\">\n",
       "      <th></th>\n",
       "      <th>whidx</th>\n",
       "      <th>skuidx</th>\n",
       "      <th>demand</th>\n",
       "    </tr>\n",
       "  </thead>\n",
       "  <tbody>\n",
       "    <tr>\n",
       "      <th>0</th>\n",
       "      <td>65247</td>\n",
       "      <td>3159035</td>\n",
       "      <td>11709</td>\n",
       "    </tr>\n",
       "    <tr>\n",
       "      <th>0</th>\n",
       "      <td>69100</td>\n",
       "      <td>3158784</td>\n",
       "      <td>2510</td>\n",
       "    </tr>\n",
       "    <tr>\n",
       "      <th>0</th>\n",
       "      <td>65245</td>\n",
       "      <td>3158784</td>\n",
       "      <td>2459</td>\n",
       "    </tr>\n",
       "    <tr>\n",
       "      <th>0</th>\n",
       "      <td>65241</td>\n",
       "      <td>3158784</td>\n",
       "      <td>2050</td>\n",
       "    </tr>\n",
       "    <tr>\n",
       "      <th>0</th>\n",
       "      <td>16742</td>\n",
       "      <td>3163649</td>\n",
       "      <td>1330</td>\n",
       "    </tr>\n",
       "    <tr>\n",
       "      <th>0</th>\n",
       "      <td>75187</td>\n",
       "      <td>3205720</td>\n",
       "      <td>990</td>\n",
       "    </tr>\n",
       "    <tr>\n",
       "      <th>0</th>\n",
       "      <td>65244</td>\n",
       "      <td>3158784</td>\n",
       "      <td>909</td>\n",
       "    </tr>\n",
       "    <tr>\n",
       "      <th>0</th>\n",
       "      <td>65249</td>\n",
       "      <td>3158784</td>\n",
       "      <td>819</td>\n",
       "    </tr>\n",
       "    <tr>\n",
       "      <th>0</th>\n",
       "      <td>13607</td>\n",
       "      <td>3205752</td>\n",
       "      <td>325</td>\n",
       "    </tr>\n",
       "    <tr>\n",
       "      <th>0</th>\n",
       "      <td>70401</td>\n",
       "      <td>3269615</td>\n",
       "      <td>246</td>\n",
       "    </tr>\n",
       "    <tr>\n",
       "      <th>0</th>\n",
       "      <td>37163</td>\n",
       "      <td>3481968</td>\n",
       "      <td>227</td>\n",
       "    </tr>\n",
       "    <tr>\n",
       "      <th>0</th>\n",
       "      <td>34122</td>\n",
       "      <td>3481968</td>\n",
       "      <td>216</td>\n",
       "    </tr>\n",
       "    <tr>\n",
       "      <th>0</th>\n",
       "      <td>81490</td>\n",
       "      <td>3481968</td>\n",
       "      <td>204</td>\n",
       "    </tr>\n",
       "    <tr>\n",
       "      <th>0</th>\n",
       "      <td>68500</td>\n",
       "      <td>3269615</td>\n",
       "      <td>201</td>\n",
       "    </tr>\n",
       "    <tr>\n",
       "      <th>0</th>\n",
       "      <td>70360</td>\n",
       "      <td>3269615</td>\n",
       "      <td>195</td>\n",
       "    </tr>\n",
       "    <tr>\n",
       "      <th>0</th>\n",
       "      <td>80704</td>\n",
       "      <td>3269615</td>\n",
       "      <td>187</td>\n",
       "    </tr>\n",
       "    <tr>\n",
       "      <th>0</th>\n",
       "      <td>4643</td>\n",
       "      <td>3481968</td>\n",
       "      <td>169</td>\n",
       "    </tr>\n",
       "    <tr>\n",
       "      <th>0</th>\n",
       "      <td>75184</td>\n",
       "      <td>3481968</td>\n",
       "      <td>164</td>\n",
       "    </tr>\n",
       "    <tr>\n",
       "      <th>0</th>\n",
       "      <td>82290</td>\n",
       "      <td>3481968</td>\n",
       "      <td>162</td>\n",
       "    </tr>\n",
       "    <tr>\n",
       "      <th>0</th>\n",
       "      <td>65243</td>\n",
       "      <td>3269615</td>\n",
       "      <td>132</td>\n",
       "    </tr>\n",
       "    <tr>\n",
       "      <th>0</th>\n",
       "      <td>65227</td>\n",
       "      <td>3269615</td>\n",
       "      <td>124</td>\n",
       "    </tr>\n",
       "    <tr>\n",
       "      <th>0</th>\n",
       "      <td>2517</td>\n",
       "      <td>3481965</td>\n",
       "      <td>121</td>\n",
       "    </tr>\n",
       "    <tr>\n",
       "      <th>0</th>\n",
       "      <td>65941</td>\n",
       "      <td>3481965</td>\n",
       "      <td>115</td>\n",
       "    </tr>\n",
       "    <tr>\n",
       "      <th>0</th>\n",
       "      <td>52420</td>\n",
       "      <td>3481965</td>\n",
       "      <td>96</td>\n",
       "    </tr>\n",
       "    <tr>\n",
       "      <th>0</th>\n",
       "      <td>15942</td>\n",
       "      <td>3124317</td>\n",
       "      <td>92</td>\n",
       "    </tr>\n",
       "    <tr>\n",
       "      <th>0</th>\n",
       "      <td>65240</td>\n",
       "      <td>3124501</td>\n",
       "      <td>88</td>\n",
       "    </tr>\n",
       "    <tr>\n",
       "      <th>0</th>\n",
       "      <td>5156</td>\n",
       "      <td>3124328</td>\n",
       "      <td>88</td>\n",
       "    </tr>\n",
       "    <tr>\n",
       "      <th>0</th>\n",
       "      <td>52720</td>\n",
       "      <td>3124317</td>\n",
       "      <td>87</td>\n",
       "    </tr>\n",
       "    <tr>\n",
       "      <th>0</th>\n",
       "      <td>7997</td>\n",
       "      <td>3481965</td>\n",
       "      <td>82</td>\n",
       "    </tr>\n",
       "    <tr>\n",
       "      <th>0</th>\n",
       "      <td>60182</td>\n",
       "      <td>3068340</td>\n",
       "      <td>80</td>\n",
       "    </tr>\n",
       "    <tr>\n",
       "      <th>0</th>\n",
       "      <td>2518</td>\n",
       "      <td>3481968</td>\n",
       "      <td>79</td>\n",
       "    </tr>\n",
       "  </tbody>\n",
       "</table>\n",
       "</div>"
      ],
      "text/plain": [
       "   whidx   skuidx demand\n",
       "0  65247  3159035  11709\n",
       "0  69100  3158784   2510\n",
       "0  65245  3158784   2459\n",
       "0  65241  3158784   2050\n",
       "0  16742  3163649   1330\n",
       "0  75187  3205720    990\n",
       "0  65244  3158784    909\n",
       "0  65249  3158784    819\n",
       "0  13607  3205752    325\n",
       "0  70401  3269615    246\n",
       "0  37163  3481968    227\n",
       "0  34122  3481968    216\n",
       "0  81490  3481968    204\n",
       "0  68500  3269615    201\n",
       "0  70360  3269615    195\n",
       "0  80704  3269615    187\n",
       "0   4643  3481968    169\n",
       "0  75184  3481968    164\n",
       "0  82290  3481968    162\n",
       "0  65243  3269615    132\n",
       "0  65227  3269615    124\n",
       "0   2517  3481965    121\n",
       "0  65941  3481965    115\n",
       "0  52420  3481965     96\n",
       "0  15942  3124317     92\n",
       "0  65240  3124501     88\n",
       "0   5156  3124328     88\n",
       "0  52720  3124317     87\n",
       "0   7997  3481965     82\n",
       "0  60182  3068340     80\n",
       "0   2518  3481968     79"
      ]
     },
     "execution_count": 18,
     "metadata": {},
     "output_type": "execute_result"
    }
   ],
   "source": [
    "targets.sort_values('demand',ascending = False)"
   ]
  },
  {
   "cell_type": "code",
   "execution_count": 20,
   "id": "7bfc2566",
   "metadata": {},
   "outputs": [
    {
     "data": {
      "text/plain": [
       "[3158784, 3205720, 3163649, 3159035]"
      ]
     },
     "execution_count": 20,
     "metadata": {},
     "output_type": "execute_result"
    }
   ],
   "source": [
    "\"\"\" let us assume that we need to target skus with \n",
    "    more than 500 units of demand in the last 16 months \n",
    "\"\"\"\n",
    "\n",
    "skutargets  = list(targets.loc[targets['demand'] > 500].skuidx.unique())\n",
    "skutargets"
   ]
  },
  {
   "cell_type": "code",
   "execution_count": 25,
   "id": "c8a7e49e",
   "metadata": {},
   "outputs": [
    {
     "data": {
      "text/html": [
       "<div>\n",
       "<style scoped>\n",
       "    .dataframe tbody tr th:only-of-type {\n",
       "        vertical-align: middle;\n",
       "    }\n",
       "\n",
       "    .dataframe tbody tr th {\n",
       "        vertical-align: top;\n",
       "    }\n",
       "\n",
       "    .dataframe thead th {\n",
       "        text-align: right;\n",
       "    }\n",
       "</style>\n",
       "<table border=\"1\" class=\"dataframe\">\n",
       "  <thead>\n",
       "    <tr style=\"text-align: right;\">\n",
       "      <th></th>\n",
       "      <th>month_start_date</th>\n",
       "      <th>whidx</th>\n",
       "      <th>skuidx</th>\n",
       "      <th>qty</th>\n",
       "    </tr>\n",
       "  </thead>\n",
       "  <tbody>\n",
       "    <tr>\n",
       "      <th>93</th>\n",
       "      <td>2020-12-01</td>\n",
       "      <td>65247</td>\n",
       "      <td>3159035</td>\n",
       "      <td>11709</td>\n",
       "    </tr>\n",
       "  </tbody>\n",
       "</table>\n",
       "</div>"
      ],
      "text/plain": [
       "   month_start_date  whidx   skuidx    qty\n",
       "93       2020-12-01  65247  3159035  11709"
      ]
     },
     "execution_count": 25,
     "metadata": {},
     "output_type": "execute_result"
    }
   ],
   "source": [
    "monthdata.loc[monthdata['skuidx'] == skutargets[3]]"
   ]
  },
  {
   "cell_type": "code",
   "execution_count": null,
   "id": "af1634ce",
   "metadata": {},
   "outputs": [],
   "source": [
    "\"\"\" Asma's Assignment \"\"\""
   ]
  },
  {
   "cell_type": "code",
   "execution_count": 10,
   "id": "86a11965",
   "metadata": {},
   "outputs": [
    {
     "name": "stdout",
     "output_type": "stream",
     "text": [
      "Requirement already satisfied: statsmodels in c:\\users\\indranil\\appdata\\local\\programs\\python\\python39\\lib\\site-packages (0.13.2)\n",
      "Requirement already satisfied: patsy>=0.5.2 in c:\\users\\indranil\\appdata\\local\\programs\\python\\python39\\lib\\site-packages (from statsmodels) (0.5.2)\n",
      "Requirement already satisfied: scipy>=1.3 in c:\\users\\indranil\\appdata\\local\\programs\\python\\python39\\lib\\site-packages (from statsmodels) (1.8.1)\n",
      "Requirement already satisfied: packaging>=21.3 in c:\\users\\indranil\\appdata\\local\\programs\\python\\python39\\lib\\site-packages (from statsmodels) (21.3)\n",
      "Requirement already satisfied: pandas>=0.25 in c:\\users\\indranil\\appdata\\local\\programs\\python\\python39\\lib\\site-packages (from statsmodels) (1.3.5)\n",
      "Requirement already satisfied: numpy>=1.17 in c:\\users\\indranil\\appdata\\local\\programs\\python\\python39\\lib\\site-packages (from statsmodels) (1.21.4)\n",
      "Requirement already satisfied: pyparsing!=3.0.5,>=2.0.2 in c:\\users\\indranil\\appdata\\local\\programs\\python\\python39\\lib\\site-packages (from packaging>=21.3->statsmodels) (3.0.6)\n",
      "Requirement already satisfied: pytz>=2017.3 in c:\\users\\indranil\\appdata\\local\\programs\\python\\python39\\lib\\site-packages (from pandas>=0.25->statsmodels) (2021.3)\n",
      "Requirement already satisfied: python-dateutil>=2.7.3 in c:\\users\\indranil\\appdata\\local\\programs\\python\\python39\\lib\\site-packages (from pandas>=0.25->statsmodels) (2.8.2)\n",
      "Requirement already satisfied: six in c:\\users\\indranil\\appdata\\local\\programs\\python\\python39\\lib\\site-packages (from patsy>=0.5.2->statsmodels) (1.16.0)\n",
      "\n",
      "[notice] A new release of pip available: 22.1.2 -> 22.2.2\n",
      "[notice] To update, run: python.exe -m pip install --upgrade pip\n"
     ]
    }
   ],
   "source": [
    "!pip install statsmodels"
   ]
  },
  {
   "cell_type": "markdown",
   "id": "e598feec",
   "metadata": {},
   "source": [
    "# Creating the masterdata:"
   ]
  },
  {
   "cell_type": "code",
   "execution_count": 27,
   "id": "6ae8e813",
   "metadata": {},
   "outputs": [],
   "source": [
    "pd.set_option('display.float_format', lambda x: '%.3f' % x)"
   ]
  },
  {
   "cell_type": "code",
   "execution_count": 5,
   "id": "ebfec5ec",
   "metadata": {},
   "outputs": [
    {
     "data": {
      "text/html": [
       "<div>\n",
       "<style scoped>\n",
       "    .dataframe tbody tr th:only-of-type {\n",
       "        vertical-align: middle;\n",
       "    }\n",
       "\n",
       "    .dataframe tbody tr th {\n",
       "        vertical-align: top;\n",
       "    }\n",
       "\n",
       "    .dataframe thead th {\n",
       "        text-align: right;\n",
       "    }\n",
       "</style>\n",
       "<table border=\"1\" class=\"dataframe\">\n",
       "  <thead>\n",
       "    <tr style=\"text-align: right;\">\n",
       "      <th></th>\n",
       "      <th>month_start_date</th>\n",
       "      <th>whidx</th>\n",
       "      <th>skuidx</th>\n",
       "      <th>qty</th>\n",
       "    </tr>\n",
       "  </thead>\n",
       "  <tbody>\n",
       "    <tr>\n",
       "      <th>11</th>\n",
       "      <td>2020-05-01</td>\n",
       "      <td>65227</td>\n",
       "      <td>3269615</td>\n",
       "      <td>-2</td>\n",
       "    </tr>\n",
       "  </tbody>\n",
       "</table>\n",
       "</div>"
      ],
      "text/plain": [
       "   month_start_date  whidx   skuidx  qty\n",
       "11       2020-05-01  65227  3269615   -2"
      ]
     },
     "execution_count": 5,
     "metadata": {},
     "output_type": "execute_result"
    }
   ],
   "source": [
    "monthdata.loc[monthdata['qty'] < 0]"
   ]
  },
  {
   "cell_type": "code",
   "execution_count": 6,
   "id": "7c649e06",
   "metadata": {},
   "outputs": [
    {
     "data": {
      "text/html": [
       "<div>\n",
       "<style scoped>\n",
       "    .dataframe tbody tr th:only-of-type {\n",
       "        vertical-align: middle;\n",
       "    }\n",
       "\n",
       "    .dataframe tbody tr th {\n",
       "        vertical-align: top;\n",
       "    }\n",
       "\n",
       "    .dataframe thead th {\n",
       "        text-align: right;\n",
       "    }\n",
       "</style>\n",
       "<table border=\"1\" class=\"dataframe\">\n",
       "  <thead>\n",
       "    <tr style=\"text-align: right;\">\n",
       "      <th></th>\n",
       "      <th>month_start_date</th>\n",
       "      <th>whidx</th>\n",
       "      <th>skuidx</th>\n",
       "      <th>qty</th>\n",
       "    </tr>\n",
       "  </thead>\n",
       "  <tbody>\n",
       "    <tr>\n",
       "      <th>10</th>\n",
       "      <td>2020-02-01</td>\n",
       "      <td>70401</td>\n",
       "      <td>3269615</td>\n",
       "      <td>0</td>\n",
       "    </tr>\n",
       "  </tbody>\n",
       "</table>\n",
       "</div>"
      ],
      "text/plain": [
       "   month_start_date  whidx   skuidx  qty\n",
       "10       2020-02-01  70401  3269615    0"
      ]
     },
     "execution_count": 6,
     "metadata": {},
     "output_type": "execute_result"
    }
   ],
   "source": [
    "monthdata.loc[monthdata['qty'] == 0]"
   ]
  },
  {
   "cell_type": "code",
   "execution_count": 21,
   "id": "758a4836",
   "metadata": {},
   "outputs": [
    {
     "data": {
      "text/plain": [
       "(7, 4)"
      ]
     },
     "execution_count": 21,
     "metadata": {},
     "output_type": "execute_result"
    }
   ],
   "source": [
    "masterdata = monthdata.loc[(monthdata['qty'] != 0) & (monthdata['qty'] != -2)]\n",
    "data_3158784 = masterdata.loc[masterdata['skuidx'] == skutargets[0]]\n",
    "data_3158784.shape"
   ]
  },
  {
   "cell_type": "code",
   "execution_count": 57,
   "id": "76ff7368",
   "metadata": {},
   "outputs": [],
   "source": [
    "masterdata['month_start_date'] = pd.to_datetime(masterdata['month_start_date'])\n",
    "masterdata = masterdata.sort_values('month_start_date',ascending = True)"
   ]
  },
  {
   "cell_type": "code",
   "execution_count": 58,
   "id": "a693f511",
   "metadata": {},
   "outputs": [
    {
     "data": {
      "text/plain": [
       "[<matplotlib.lines.Line2D at 0x1b88a4b8fd0>]"
      ]
     },
     "execution_count": 58,
     "metadata": {},
     "output_type": "execute_result"
    },
    {
     "data": {
      "image/png": "[encoded data removed]",
      "text/plain": [
       "<Figure size 1296x468 with 1 Axes>"
      ]
     },
     "metadata": {
      "needs_background": "light"
     },
     "output_type": "display_data"
    }
   ],
   "source": [
    "import matplotlib.pyplot as plt\n",
    "plt.rcParams[\"figure.figsize\"] = (18,6.5)\n",
    "plt.plot(masterdata.month_start_date,masterdata.qty)"
   ]
  },
  {
   "cell_type": "code",
   "execution_count": 28,
   "id": "7418f194",
   "metadata": {},
   "outputs": [
    {
     "data": {
      "text/plain": [
       "True"
      ]
     },
     "execution_count": 28,
     "metadata": {},
     "output_type": "execute_result"
    }
   ],
   "source": [
    "import statsmodels\n",
    "from statsmodels.tsa.stattools import adfuller\n",
    "adfuller(masterdata['qty'])\n",
    "\n",
    "\"\"\" p-value of augmented dickey fuller test for stationarity \"\"\"\n",
    "p_value = adfuller(masterdata['qty'])[1]\n",
    "p_value < 0.05\n",
    "\n",
    "\n",
    "\"\"\" as the time series is stationary , the value of d = 0 for ARIMA(p,d,q) \"\"\""
   ]
  },
  {
   "cell_type": "code",
   "execution_count": 59,
   "id": "4c424f70",
   "metadata": {},
   "outputs": [
    {
     "data": {
      "image/png": "[encoded data removed]",
      "text/plain": [
       "<Figure size 1296x468 with 1 Axes>"
      ]
     },
     "execution_count": 59,
     "metadata": {},
     "output_type": "execute_result"
    },
    {
     "data": {
      "image/png": "[encoded data removed]",
      "text/plain": [
       "<Figure size 1296x468 with 1 Axes>"
      ]
     },
     "metadata": {
      "needs_background": "light"
     },
     "output_type": "display_data"
    }
   ],
   "source": [
    "import matplotlib.pyplot as plt\n",
    "from statsmodels.graphics.tsaplots import plot_acf, plot_pacf\n",
    "masterdata = masterdata.sort_values('month_start_date',ascending = True)\n",
    "plot_acf(masterdata.qty)"
   ]
  },
  {
   "cell_type": "code",
   "execution_count": 60,
   "id": "1ce0c40d",
   "metadata": {},
   "outputs": [
    {
     "name": "stderr",
     "output_type": "stream",
     "text": [
      "C:\\Users\\Indranil\\AppData\\Local\\Programs\\Python\\Python39\\lib\\site-packages\\statsmodels\\graphics\\tsaplots.py:348: FutureWarning: The default method 'yw' can produce PACF values outside of the [-1,1] interval. After 0.13, the default will change tounadjusted Yule-Walker ('ywm'). You can use this method now by setting method='ywm'.\n",
      "  warnings.warn(\n"
     ]
    },
    {
     "data": {
      "image/png": "[encoded data removed]",
      "text/plain": [
       "<Figure size 1296x468 with 1 Axes>"
      ]
     },
     "execution_count": 60,
     "metadata": {},
     "output_type": "execute_result"
    },
    {
     "data": {
      "image/png": "[encoded data removed]",
      "text/plain": [
       "<Figure size 1296x468 with 1 Axes>"
      ]
     },
     "metadata": {
      "needs_background": "light"
     },
     "output_type": "display_data"
    }
   ],
   "source": [
    "import matplotlib.pyplot as plt\n",
    "from statsmodels.graphics.tsaplots import plot_acf, plot_pacf\n",
    "masterdata = masterdata.sort_values('month_start_date',ascending = True)\n",
    "plot_pacf(masterdata.qty)"
   ]
  },
  {
   "cell_type": "markdown",
   "id": "26794e9a",
   "metadata": {},
   "source": [
    "# temporal split : train & test"
   ]
  },
  {
   "cell_type": "code",
   "execution_count": 64,
   "id": "cd3d0fff",
   "metadata": {},
   "outputs": [
    {
     "data": {
      "text/plain": [
       "array(['2019-07-01T00:00:00.000000000', '2019-08-01T00:00:00.000000000',\n",
       "       '2019-09-01T00:00:00.000000000', '2019-10-01T00:00:00.000000000',\n",
       "       '2019-11-01T00:00:00.000000000', '2019-12-01T00:00:00.000000000',\n",
       "       '2020-01-01T00:00:00.000000000', '2020-06-01T00:00:00.000000000',\n",
       "       '2020-07-01T00:00:00.000000000', '2020-08-01T00:00:00.000000000',\n",
       "       '2020-09-01T00:00:00.000000000', '2020-10-01T00:00:00.000000000',\n",
       "       '2020-11-01T00:00:00.000000000', '2020-12-01T00:00:00.000000000'],\n",
       "      dtype='datetime64[ns]')"
      ]
     },
     "execution_count": 64,
     "metadata": {},
     "output_type": "execute_result"
    }
   ],
   "source": [
    "masterdata.month_start_date.sort_values(ascending = True).unique()"
   ]
  },
  {
   "cell_type": "code",
   "execution_count": 67,
   "id": "03000794",
   "metadata": {},
   "outputs": [
    {
     "name": "stdout",
     "output_type": "stream",
     "text": [
      " train :(71, 4) & test : (35, 4)\n"
     ]
    }
   ],
   "source": [
    "train = masterdata.loc[masterdata['month_start_date'] <= '2020-11-01T00:00:00.000000000']\n",
    "test = masterdata.loc[masterdata['month_start_date'] > '2020-11-01T00:00:00.000000000']\n",
    "print(f\" train :{train.shape} & test : {test.shape}\")"
   ]
  },
  {
   "cell_type": "code",
   "execution_count": 77,
   "id": "e69adb75",
   "metadata": {},
   "outputs": [
    {
     "name": "stderr",
     "output_type": "stream",
     "text": [
      "C:\\Users\\Indranil\\AppData\\Local\\Programs\\Python\\Python39\\lib\\site-packages\\statsmodels\\tsa\\statespace\\sarimax.py:966: UserWarning: Non-stationary starting autoregressive parameters found. Using zeros as starting parameters.\n",
      "  warn('Non-stationary starting autoregressive parameters'\n",
      "C:\\Users\\Indranil\\AppData\\Local\\Programs\\Python\\Python39\\lib\\site-packages\\statsmodels\\tsa\\statespace\\sarimax.py:978: UserWarning: Non-invertible starting MA parameters found. Using zeros as starting parameters.\n",
      "  warn('Non-invertible starting MA parameters found.'\n"
     ]
    },
    {
     "name": "stdout",
     "output_type": "stream",
     "text": [
      "                               SARIMAX Results                                \n",
      "==============================================================================\n",
      "Dep. Variable:                      y   No. Observations:                   71\n",
      "Model:               SARIMAX(3, 0, 2)   Log Likelihood                -504.009\n",
      "Date:                Thu, 11 Aug 2022   AIC                           1020.017\n",
      "Time:                        21:03:34   BIC                           1033.593\n",
      "Sample:                             0   HQIC                          1025.416\n",
      "                                 - 71                                         \n",
      "Covariance Type:                  opg                                         \n",
      "==============================================================================\n",
      "                 coef    std err          z      P>|z|      [0.025      0.975]\n",
      "------------------------------------------------------------------------------\n",
      "ar.L1         -0.1230      0.243     -0.507      0.612      -0.598       0.352\n",
      "ar.L2          0.6693      0.168      3.990      0.000       0.341       0.998\n",
      "ar.L3          0.4078      0.212      1.922      0.055      -0.008       0.824\n",
      "ma.L1          0.2157      0.286      0.755      0.450      -0.344       0.776\n",
      "ma.L2         -0.7119      0.132     -5.395      0.000      -0.970      -0.453\n",
      "sigma2      8.229e+04   4293.901     19.165      0.000    7.39e+04    9.07e+04\n",
      "===================================================================================\n",
      "Ljung-Box (L1) (Q):                   0.00   Jarque-Bera (JB):              2018.96\n",
      "Prob(Q):                              0.98   Prob(JB):                         0.00\n",
      "Heteroskedasticity (H):              64.92   Skew:                             3.65\n",
      "Prob(H) (two-sided):                  0.00   Kurtosis:                        28.08\n",
      "===================================================================================\n",
      "\n",
      "Warnings:\n",
      "[1] Covariance matrix calculated using the outer product of gradients (complex-step).\n"
     ]
    }
   ],
   "source": [
    "from statsmodels.tsa.statespace.sarimax import SARIMAX\n",
    "input_array = np.array(train.qty)\n",
    "model = SARIMAX(input_array, order=(3,0,2))\n",
    "model_fit = model.fit(disp=0)\n",
    "print(model_fit.summary())"
   ]
  },
  {
   "cell_type": "code",
   "execution_count": 78,
   "id": "9a646503",
   "metadata": {},
   "outputs": [
    {
     "data": {
      "image/png": "[encoded data removed]",
      "text/plain": [
       "<Figure size 1296x468 with 2 Axes>"
      ]
     },
     "metadata": {
      "needs_background": "light"
     },
     "output_type": "display_data"
    }
   ],
   "source": [
    "residuals = pd.DataFrame(model_fit.resid)\n",
    "fig, ax = plt.subplots(1,2)\n",
    "residuals.plot(title=\"Residuals\", ax=ax[0])\n",
    "residuals.plot(kind='kde', title='Density', ax=ax[1])\n",
    "plt.show()"
   ]
  }
 ],
 "metadata": {
  "kernelspec": {
   "display_name": "Python 3 (ipykernel)",
   "language": "python",
   "name": "python3"
  },
  "language_info": {
   "codemirror_mode": {
    "name": "ipython",
    "version": 3
   },
   "file_extension": ".py",
   "mimetype": "text/x-python",
   "name": "python",
   "nbconvert_exporter": "python",
   "pygments_lexer": "ipython3",
   "version": "3.9.9"
  }
 },
 "nbformat": 4,
 "nbformat_minor": 5
}
